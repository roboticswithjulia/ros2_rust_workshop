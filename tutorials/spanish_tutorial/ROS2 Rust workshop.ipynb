{
 "cells": [
  {
   "cell_type": "markdown",
   "metadata": {},
   "source": [
    "<p style=\"text-align: center\">\n",
    "  <img src=\"./images/ROSConSevilla24.png\" width=\"400\" title=\"ROSCon Sevilla 2024\">\n",
    "</p>"
   ]
  },
  {
   "cell_type": "markdown",
   "metadata": {},
   "source": [
    "<p style=\"text-align: center\">\n",
    "  <img src=\"./images/ROS2_Rust.png\" width=\"700\" title=\"ROS2 RUST logo\">\n",
    "</p>"
   ]
  },
  {
   "cell_type": "markdown",
   "metadata": {},
   "source": [
    "<div>\n",
    "    <h1 class=\"text-center\">\n",
    "        <span class=\"text-primary\">Workshop | Tutorial:</span>\n",
    "        &nbsp;\n",
    "        <span class=\"\">Desarrollo de Aplicaciones Reales en Robótica con ROS2 y Rust</span>\n",
    "    </h1>\n",
    "</div>"
   ]
  },
  {
   "cell_type": "markdown",
   "metadata": {},
   "source": [
    "Rust es un lenguaje que permite crear un software de calidad y eficiente.\n",
    "\n",
    "ROS2, el marco de trabajo para sistemas operativos robóticos, ahora ofrece la posibilidad de ser utilizado con Rust. Con este proyecto, aprenderás a desarrollar nodos en Rust para tus aplicaciones robóticas reales.\n",
    "\n",
    "En este workshop, aprenderás lo siguiente: \n",
    "\n",
    "* [1. ¿Qué es / Por qué Rust?](#whatisrust)\n",
    "* [2. Cómo instalar Rust con ROS2](#howtoinstallrust)\n",
    "* [3. Ejecutar la simulación](#setupworkspace)\n",
    "* [4. Cómo mover un robot con ROS2 y Rust](#movearobotwithROS2)\n",
    "* [4.1 Cómo crear un paquete de ROS en Rust](#createarustrospackage)\n",
    "* [4.2 Consejos básicos de programación en Rust](#basicrustprogrammingtips)\n",
    "* [4.3 Cómo crear un *subscriber* en Rust](#howtocreateasubscribertoscantopicinrust)\n",
    "* [4.4 Cómo crear un *publisher* en Rust](#howtocreateapublishertocmdvelinrust)\n",
    "* [4.5 Cómo crear un *subscriber* y un *publisher* en el mismo nodo](#howtocreatasubandpub)\n",
    "* [5. Trabajo futuro](#futurework)\n",
    "* [6. Preguntas y respuestas](#QandA)"
   ]
  },
  {
   "cell_type": "markdown",
   "metadata": {},
   "source": [
    "<div>\n",
    "    <h1 class=\"text-center\">\n",
    "        <span class=\"text-primary\"></span>\n",
    "        &nbsp;\n",
    "        <span class=\"\">Me presento:</span>\n",
    "    </h1>\n",
    "</div>"
   ]
  },
  {
   "cell_type": "markdown",
   "metadata": {},
   "source": [
    "Mi nombre es Júlia Marsal, y soy Ingeniera Industrial Superior con un Máster en Robótica. Empecé en el campo de la robótica cuando tenía 16 años, y, hasta ahora, he trabajado en diferentes universidades y empresas desarrollando aplicaciones de Software de robótica a medida. "
   ]
  },
  {
   "cell_type": "markdown",
   "metadata": {},
   "source": [
    "<p style=\"text-align: center\">\n",
    "    <img src=\"./images/JMRobotics.png\" width=\"500\" >\n",
    "</p>"
   ]
  },
  {
   "cell_type": "markdown",
   "metadata": {},
   "source": [
    "Actualmente, soy Consultora en Ingeniería Robótica, y desarrollo software para [DTE](https://www.dte.ai/), una empresa de robótica localizada en Islandia, la cual produce aplicaciones robóticas para los metales del futuro. <br />\n"
   ]
  },
  {
   "cell_type": "markdown",
   "metadata": {},
   "source": [
    "<p style=\"text-align: center\">\n",
    "<img src=\"./images/dte.png\" width=\"200\" style=\"margin:auto\"/>\n",
    "</p>"
   ]
  },
  {
   "cell_type": "markdown",
   "metadata": {},
   "source": [
    "Además, me fascina la docencia, por lo que ocasionalmente me dedico a ella. Actualmente, impartiendo cursos de robótica para la universidad [Institute for Advanced Architecture of Catalonia - IAAC](https://iaac.net/ros-meetup-barcelona/)."
   ]
  },
  {
   "cell_type": "markdown",
   "metadata": {},
   "source": [
    "<p style=\"text-align: center\">\n",
    "    <img src=\"./images/IAAC.png\" width=\"300\"  align=\"center\">\n",
    "</p>"
   ]
  },
  {
   "cell_type": "markdown",
   "metadata": {},
   "source": [
    "Y, soy la organizadora del `ROS Meetup Barcelona`."
   ]
  },
  {
   "cell_type": "markdown",
   "metadata": {},
   "source": [
    "<p style=\"text-align: center\">\n",
    "    <img src=\"./images/ROSMeetupBarcelona.png\" width=\"500\"  align=\"center\">\n",
    "</p>"
   ]
  },
  {
   "cell_type": "markdown",
   "metadata": {},
   "source": [
    "No dudes en contactarme si hay algo más en lo que pueda asistirte."
   ]
  },
  {
   "cell_type": "markdown",
   "metadata": {},
   "source": [
    "<p style=\"text-align: center\">\n",
    "  <img src=\"./images/LinkedIn_julia.png\" width=\"350\" title=\"julia linkedin\">\n",
    "</p>"
   ]
  },
  {
   "cell_type": "markdown",
   "metadata": {},
   "source": [
    " <a name=\"whatisrust\"></a>\n",
    "<div>\n",
    "    <h1 class=\"text-center\">\n",
    "        <span class=\"text-primary\">1.</span>\n",
    "        &nbsp;\n",
    "        <span class=\"\">¿Qué es / Por qué Rust?</span>\n",
    "    </h1>\n",
    "</div>"
   ]
  },
  {
   "cell_type": "markdown",
   "metadata": {},
   "source": [
    "Rust es un lenguaje de programación de sistemas diseñado para optimizar el rendimiento, la seguridad y la concurrencia. Fue desarrollado originalmente por Mozilla y ahora es mantenido por la Fundación Rust, que incluye partes de código abierto."
   ]
  },
  {
   "cell_type": "markdown",
   "metadata": {},
   "source": [
    "<p style=\"text-align: center\">\n",
    "  <img src=\"./images/Rust_Foundation_logo.png\" width=\"300\" title=\"The Rust foundation\">\n",
    "</p>"
   ]
  },
  {
   "cell_type": "markdown",
   "metadata": {},
   "source": [
    "En la siguiente imagen se encuentran algunas características y aspectos clave de Rust:"
   ]
  },
  {
   "cell_type": "markdown",
   "metadata": {},
   "source": [
    "<p style=\"text-align: center\">\n",
    "  <img src=\"./images/Rust_diagram.png\" width=\"800\" title=\"Rust diagram\">\n",
    "</p>"
   ]
  },
  {
   "cell_type": "markdown",
   "metadata": {},
   "source": [
    "<a name=\"howtoinstallrust\"></a>\n",
    "<div>\n",
    "    <h1 class=\"text-center\">\n",
    "        <span class=\"text-primary\">2.</span>\n",
    "        &nbsp;\n",
    "        <span class=\"\">Cómo instalar Rust con ROS2</span>\n",
    "    </h1>\n",
    "</div>"
   ]
  },
  {
   "cell_type": "markdown",
   "metadata": {},
   "source": [
    "Los paquetes de ROS2 no se pueden localizar por defecto dentro de los paquetes de Rust. La única forma de trabajar con ello actualmente es instalarlo desde el código fuente o utilizando Docker. <br /> Dichos recursos se pueden encontrar aquí:\n",
    "https://github.com/ros2-rust/ros2_rust.\n",
    "\n",
    "\n"
   ]
  },
  {
   "cell_type": "markdown",
   "metadata": {},
   "source": [
    "<a name=\"#setupworkspace\"></a>\n",
    "<div>\n",
    "    <h1 class=\"text-center\">\n",
    "        <span class=\"text-primary\">3.</span>\n",
    "        &nbsp;\n",
    "        <span class=\"\">Ejecutar la simulación</span>\n",
    "    </h1>\n",
    "</div>"
   ]
  },
  {
   "cell_type": "markdown",
   "metadata": {},
   "source": [
    "1. Ejecutar la simulación en _Gazebo_ en la **Terminal 1** [Puede que tarde un poco la primera vez que se abre, esperar a que se abra la simulación y proceder con `Ctrl+C` y volverlo a ejecutar]"
   ]
  },
  {
   "cell_type": "code",
   "execution_count": null,
   "metadata": {},
   "outputs": [],
   "source": [
    "cd ~/ros2_rust_workshop/ros_ws\n",
    ". install/setup.sh\n",
    "ros2 launch champ_config gazebo.launch.py "
   ]
  },
  {
   "cell_type": "markdown",
   "metadata": {},
   "source": [
    "<p style=\"text-align: center\">\n",
    "  <img src=\"./images/barrels_world.png\" width=\"800\" title=\"Rust diagram\">\n",
    "</p>"
   ]
  },
  {
   "cell_type": "markdown",
   "metadata": {},
   "source": [
    "2. Ver que *topics* hay disponibles en la **Terminal 2**"
   ]
  },
  {
   "cell_type": "code",
   "execution_count": null,
   "metadata": {},
   "outputs": [],
   "source": [
    "cd ~/ros2_rust_workshop/ros_ws\n",
    "source /opt/ros/humble/setup.sh \n",
    ". install/setup.sh \n",
    "ros2 topic list"
   ]
  },
  {
   "cell_type": "markdown",
   "metadata": {},
   "source": [
    "<pre style=\"color: white; background: black; padding:10px; font: 1.3rem Inconsolata, monospace;\">\n",
    "/base_to_footprint_pose\n",
    "/body_pose\n",
    "/camera/camera_info\n",
    "/camera/depth/camera_info\n",
    "/camera/depth/image_raw\n",
    "/camera/image_raw\n",
    "/camera/points\n",
    "/clock\n",
    "/cmd_vel\n",
    "/diagnostics\n",
    "/dynamic_joint_states\n",
    "/foot\n",
    "/foot_contacts\n",
    "/imu/data\n",
    "/joint_group_effort_controller/controller_state\n",
    "/joint_group_effort_controller/joint_trajectory\n",
    "/joint_group_effort_controller/state\n",
    "/joint_group_effort_controller/transition_event\n",
    "/joint_states\n",
    "/joint_states_controller/transition_event\n",
    "/odom\n",
    "/odom/ground_truth\n",
    "/odom/local\n",
    "/odom/raw\n",
    "/parameter_events\n",
    "/performance_metrics\n",
    "/robot_description\n",
    "/rosout\n",
    "/scan\n",
    "/set_pose\n",
    "/tf\n",
    "/tf_static\n",
    "</pre>"
   ]
  },
  {
   "cell_type": "markdown",
   "metadata": {},
   "source": [
    "<a name=\"movearobotwithROS2\"></a>\n",
    "<div>\n",
    "    <h1 class=\"text-center\">\n",
    "        <span class=\"text-primary\">4.</span>\n",
    "        &nbsp;\n",
    "        <span class=\"\">Cómo mover un robot con ROS2 y Rust</span>\n",
    "    </h1>\n",
    "</div>"
   ]
  },
  {
   "cell_type": "markdown",
   "metadata": {},
   "source": [
    "<a name=\"createarustrospackage\"></a>\n",
    "<div>\n",
    "    <h2 class=\"text-center\">\n",
    "        <span class=\"text-primary\">4.1</span>\n",
    "        &nbsp;\n",
    "        <span class=\"\">Cómo crear un paquete de ROS en Rust</span>\n",
    "    </h2>\n",
    "</div>"
   ]
  },
  {
   "cell_type": "markdown",
   "metadata": {},
   "source": [
    "**Cargo** es el gestor de paquetes y herramienta de construcción para Rust. Facilita la gestión de dependencias, la construcción de proyectos y la ejecución de pruebas. A través de Cargo, puedes compilar tu código, descargar y actualizar paquetes de terceros (llamados _\"crates\"_), y administrar configuraciones de tu proyecto.\n",
    "\n",
    "**Crates** es el nombre que se utiliza para referirse a los paquetes de Rust. Un _crate_ es una unidad de código distribuible que puede ser una biblioteca o un ejecutable. Los crates se gestionan a través de Cargo, el gestor de paquetes de Rust, que facilita su publicación, instalación y actualización. En la siguiente página podéis encontrar los _crates_ actualmente disponibles [Crates.io website](https://crates.io/).\n",
    "\n",
    "Existen dos tipos principales de crates:\n",
    "\n",
    "- **Crates de biblioteca**: Contienen código que puede ser utilizado por otros crates. No tienen un punto de entrada principal.\n",
    "- **Crates binarios**: Contienen un punto de entrada principal (main), que puede ser ejecutado como un programa independiente.\n",
    "\n",
    "Los crates se definen en el archivo *Cargo.toml*, donde se especifican sus dependencias y configuraciones."
   ]
  },
  {
   "cell_type": "markdown",
   "metadata": {},
   "source": [
    "<p style=\"text-align: center\">\n",
    "  <img src=\".//images/rclrs_crates.png\" width=\"700\" title=\"crate example\">\n",
    "</p>"
   ]
  },
  {
   "cell_type": "code",
   "execution_count": null,
   "metadata": {},
   "outputs": [],
   "source": [
    "cargo new <pkg_name>"
   ]
  },
  {
   "cell_type": "markdown",
   "metadata": {},
   "source": [
    "<span class=\"badge badge-pill badge-primary\">\n",
    "    <i class=\"fa fa-play\"></i>\n",
    "    &nbsp;\n",
    "    Ejecuta en la terminal #2\n",
    "</span>"
   ]
  },
  {
   "cell_type": "code",
   "execution_count": null,
   "metadata": {},
   "outputs": [],
   "source": [
    "cd ~/ros2_rust_workshop/ros_ws/src\n",
    "cargo new rust_apps"
   ]
  },
  {
   "cell_type": "markdown",
   "metadata": {},
   "source": [
    "\n",
    "Cada paquete de Cargo en ROS2 tendrá la siguiente estructura de archivos y carpetas:\n",
    "\n",
    "- Carpeta `src`: Contiene los archivos fuente (Rust, CPP, Python).\n",
    "- `Cargo.toml`: Archivo donde puedes definir las dependencias (_crates_), metadatos y algunas configuraciones del compilador.\n",
    "- `Cargo.lock`: Contiene información exacta sobre tus dependencias. Es mantenido por Cargo y no debe ser editado manualmente.\n",
    "\n",
    "Son esenciales, así que recuerda lo siguiente:\n",
    "\n",
    "- Cada programa ROS2 que quieras ejecutar está organizado en un paquete.\n",
    "- Cada programa ROS2 que crees debe estar organizado en un paquete.\n",
    "- Los paquetes son el sistema principal de organización para los programas de ROS2."
   ]
  },
  {
   "cell_type": "markdown",
   "metadata": {},
   "source": [
    "<span class=\"badge badge-pill badge-primary\">\n",
    "    <i class=\"fa fa-play\"></i>\n",
    "    &nbsp;\n",
    "    Ejecuta en la Terminal #2\n",
    "</span>"
   ]
  },
  {
   "cell_type": "code",
   "execution_count": null,
   "metadata": {},
   "outputs": [],
   "source": [
    "cd ~/ros2_rust_workshop/ros_ws/src/rust_apps\n",
    "tree -c"
   ]
  },
  {
   "cell_type": "markdown",
   "metadata": {},
   "source": [
    "<span class=\"badge badge-pill badge-primary\">\n",
    "    <i class=\"fa fa-play\"></i>\n",
    "    &nbsp;\n",
    "   Salida de la terminal #2\n",
    "</span>"
   ]
  },
  {
   "cell_type": "markdown",
   "metadata": {},
   "source": [
    "<pre style=\"color: white; background: black; padding:10px; font: 1.3rem Inconsolata, monospace;\">\n",
    ".\n",
    "|-- Cargo.toml\n",
    "`-- src\n",
    "    `-- main.rs\n",
    "\n",
    "1 directory, 2 files\n",
    "</pre>"
   ]
  },
  {
   "cell_type": "markdown",
   "metadata": {},
   "source": [
    "Para que ROS reconozca que se trata de un paquete ROS, es necesario agregar un archivo **package.xml**. Este archivo contiene la información de metadatos sobre el paquete, como su nombre, versión, autor, y las dependencias necesarias."
   ]
  },
  {
   "cell_type": "markdown",
   "metadata": {},
   "source": [
    "Para crear un archivo **package.xml** dentro del directorio _rust_apps_ y copiar el código proporcionado, sigue estos pasos:"
   ]
  },
  {
   "cell_type": "markdown",
   "metadata": {},
   "source": [
    "<span class=\"badge badge-pill badge-primary\">\n",
    "    <i class=\"fa fa-play\"></i>\n",
    "    &nbsp;\n",
    "    Editor de código: rust_apps/package.xml\n",
    "</span>"
   ]
  },
  {
   "cell_type": "code",
   "execution_count": null,
   "metadata": {},
   "outputs": [],
   "source": [
    "<package format=\"3\">\n",
    "  <name>rust_apps</name>\n",
    "  <version>0.0.0</version>\n",
    "  <description>ROS2 Rust main package</description>\n",
    "  <maintainer email=\"user@gmail.com\">user</maintainer>\n",
    "  <license>MIT</license>\n",
    "\n",
    "  <depend>rclrs</depend>\n",
    "\n",
    "  <export>\n",
    "    <build_type>ament_cargo</build_type>\n",
    "  </export>\n",
    "</package>"
   ]
  },
  {
   "cell_type": "markdown",
   "metadata": {},
   "source": [
    "Los principales atajos de Rust:\n",
    "\n",
    "- `cargo build`\n",
    "- `cargo run`\n",
    "- `cargo install <name of the package>`"
   ]
  },
  {
   "cell_type": "markdown",
   "metadata": {},
   "source": [
    "No vamos a usar estos comandos en absoluto ya que estamos usando ROS2, así que utilizaremos los comandos de ROS2."
   ]
  },
  {
   "cell_type": "markdown",
   "metadata": {},
   "source": [
    "Para proyectos grandes, es posible que no desees compilar todos los paquetes de inmediato. En su lugar, puedes seguir los siguientes enfoques:"
   ]
  },
  {
   "cell_type": "markdown",
   "metadata": {},
   "source": [
    "<span class=\"badge badge-pill badge-primary\">\n",
    "    <i class=\"fa fa-play\"></i>\n",
    "    &nbsp;\n",
    "    Ejecuta en la Terminal #2\n",
    "</span>"
   ]
  },
  {
   "cell_type": "code",
   "execution_count": null,
   "metadata": {},
   "outputs": [],
   "source": [
    "cd ~/ros2_rust_workshop/ros_ws"
   ]
  },
  {
   "cell_type": "code",
   "execution_count": null,
   "metadata": {},
   "outputs": [],
   "source": [
    "colcon build --packages-select rust_apps"
   ]
  },
  {
   "cell_type": "markdown",
   "metadata": {},
   "source": [
    "<span class=\"badge badge-pill badge-primary\">\n",
    "    <i class=\"fa fa-play\"></i>\n",
    "    &nbsp;\n",
    "   Salida de la Terminal #2\n",
    "</span>"
   ]
  },
  {
   "cell_type": "markdown",
   "metadata": {},
   "source": [
    "<pre style=\"color: white; background: black; padding:10px; font: 1.3rem Inconsolata, monospace;\">\n",
    "Starting >>> rust_apps\n",
    "Finished <<< rust_apps [10.0s]                 \n",
    "\n",
    "Summary: 1 package finished [10.2s]\n",
    "</pre>"
   ]
  },
  {
   "cell_type": "markdown",
   "metadata": {},
   "source": [
    "<span class=\"badge badge-pill badge-primary\">\n",
    "    <i class=\"fa fa-play\"></i>\n",
    "    &nbsp;\n",
    "    Ejecuta en la Terminal #2\n",
    "</span>"
   ]
  },
  {
   "cell_type": "code",
   "execution_count": null,
   "metadata": {},
   "outputs": [],
   "source": [
    "source install/setup.sh"
   ]
  },
  {
   "cell_type": "markdown",
   "metadata": {},
   "source": [
    "Ahora tenemos el *crate* (paquete ROS2) listo para implementar un nodo ROS2 utilizando Rust."
   ]
  },
  {
   "cell_type": "markdown",
   "metadata": {},
   "source": [
    "<a name=\"basicrustprogrammingtips\"></a>\n",
    "<div>\n",
    "    <h2 class=\"text-center\">\n",
    "        <span class=\"text-primary\">4.2</span>\n",
    "        &nbsp;\n",
    "        <span class=\"\">Consejos Básicos de Programación en Rust</span>\n",
    "    </h2>\n",
    "</div>"
   ]
  },
  {
   "cell_type": "markdown",
   "metadata": {},
   "source": [
    "<div>\n",
    "    <h3 class=\"text-center\">\n",
    "        <span class=\"text-primary\">4.2.1</span>\n",
    "        &nbsp;\n",
    "        <span class=\"\">Funciones</span>\n",
    "    </h3>\n",
    "</div>"
   ]
  },
  {
   "cell_type": "code",
   "execution_count": null,
   "metadata": {},
   "outputs": [],
   "source": [
    "fn <function_name>(variable:type){} -> <return_type>"
   ]
  },
  {
   "cell_type": "code",
   "execution_count": null,
   "metadata": {},
   "outputs": [],
   "source": [
    "fn main() -> Result<(), Error> {}"
   ]
  },
  {
   "cell_type": "markdown",
   "metadata": {},
   "source": [
    "<div>\n",
    "    <h3 class=\"text-center\">\n",
    "        <span class=\"text-primary\">4.2.2</span>\n",
    "        &nbsp;\n",
    "        <span class=\"\">Mutabilidad</span>\n",
    "    </h3>\n",
    "</div>"
   ]
  },
  {
   "cell_type": "markdown",
   "metadata": {},
   "source": [
    "Para crear una nueva variable y asignarle un valor, se utiliza **let**. Si la variable es mutable (es decir, su valor puede cambiar), se debe utilizar **mut**. "
   ]
  },
  {
   "cell_type": "code",
   "execution_count": null,
   "metadata": {},
   "outputs": [],
   "source": [
    "let mut message = std_msgs::msg::String::default();"
   ]
  },
  {
   "cell_type": "markdown",
   "metadata": {},
   "source": [
    "<div>\n",
    "    <h3 class=\"text-center\">\n",
    "        <span class=\"text-primary\">4.2.3</span>\n",
    "        &nbsp;\n",
    "        <span class=\"\">Pasos para Crear un Nodo de ROS2 en Rust</span>\n",
    "    </h3>\n",
    "</div>"
   ]
  },
  {
   "cell_type": "markdown",
   "metadata": {},
   "source": [
    "<div>\n",
    "    <h4 class=\"text-center\">\n",
    "        <span class=\"text-primary\">4.2.3.1</span>\n",
    "        &nbsp;\n",
    "        <span class=\"\">Crea el contexto, el estado compartido entre nodos y entidades similares.</span>\n",
    "    </h4>\n",
    "</div>"
   ]
  },
  {
   "cell_type": "code",
   "execution_count": null,
   "metadata": {},
   "outputs": [],
   "source": [
    "let context = rclrs::Context::new(env::args())?;"
   ]
  },
  {
   "cell_type": "markdown",
   "metadata": {},
   "source": [
    "<div>\n",
    "    <h4 class=\"text-center\">\n",
    "        <span class=\"text-primary\">4.2.3.2</span>\n",
    "        &nbsp;\n",
    "        <span class=\"\">Crear el nodo.</span>\n",
    "    </h4>\n",
    "</div>"
   ]
  },
  {
   "cell_type": "code",
   "execution_count": null,
   "metadata": {},
   "outputs": [],
   "source": [
    "pub fn create_node(\n",
    "    context: &Context,\n",
    "    node_name: &str\n",
    ") -> Result<Arc<Node>, RclrsError>"
   ]
  },
  {
   "cell_type": "code",
   "execution_count": null,
   "metadata": {},
   "outputs": [],
   "source": [
    "let node = rclrs::create_node(&context, \"<node_name>\")?;"
   ]
  },
  {
   "cell_type": "markdown",
   "metadata": {},
   "source": [
    "<div>\n",
    "    <h4 class=\"text-center\">\n",
    "        <span class=\"text-primary\">4.2.3.3</span>\n",
    "        &nbsp;\n",
    "        <span class=\"\">Crear un subscriber.</span>\n",
    "    </h4>\n",
    "</div>"
   ]
  },
  {
   "cell_type": "code",
   "execution_count": null,
   "metadata": {},
   "outputs": [],
   "source": [
    "source\n",
    "pub fn create_subscription<T, Args>(\n",
    "    &self,\n",
    "    topic: &str,\n",
    "    qos: QoSProfile,\n",
    "    callback: impl SubscriptionCallback<T, Args>\n",
    ") -> Result<Arc<Subscription<T>>, RclrsError>\n",
    "where\n",
    "    T: Message,"
   ]
  },
  {
   "cell_type": "code",
   "execution_count": null,
   "metadata": {},
   "outputs": [],
   "source": [
    "let _subscription = node.create_subscription::<sensor_msgs::msg::LaserScan, _>(\n",
    "    \"scan\",\n",
    "    rclrs::QOS_PROFILE_DEFAULT,\n",
    "    move |msg: sensor_msgs::msg::LaserScan| {\n",
    "        println!(\"Angle min: '{}'\", msg.angle_min);\n",
    "    },\n",
    ")?;"
   ]
  },
  {
   "cell_type": "markdown",
   "metadata": {},
   "source": [
    "<div>\n",
    "    <h4 class=\"text-center\">\n",
    "        <span class=\"text-primary\">4.2.3.4</span>\n",
    "        &nbsp;\n",
    "        <span class=\"\">Crear un publisher.</span>\n",
    "    </h4>\n",
    "</div>"
   ]
  },
  {
   "cell_type": "code",
   "execution_count": null,
   "metadata": {},
   "outputs": [],
   "source": [
    "pub fn create_publisher<T>(\n",
    "    &self,\n",
    "    topic: &str,\n",
    "    qos: QoSProfile\n",
    ") -> Result<Arc<Publisher<T>>, RclrsError>\n",
    "where\n",
    "    T: Message,"
   ]
  },
  {
   "cell_type": "code",
   "execution_count": null,
   "metadata": {},
   "outputs": [],
   "source": [
    "let publisher = node.create_publisher::<Twist>(\"cmd_vel\", rclrs::QOS_PROFILE_DEFAULT)?;\n",
    "publisher.publish(&cmd_vel_message)?;"
   ]
  },
  {
   "cell_type": "markdown",
   "metadata": {},
   "source": [
    "<div>\n",
    "    <h4 class=\"text-center\">\n",
    "        <span class=\"text-primary\">4.2.3.5</span>\n",
    "        &nbsp;\n",
    "        <span class=\"\">Qué QoSProfile (Perfil de Calidad de Servicio) tenemos implementado?.</span>\n",
    "    </h4>\n",
    "</div>"
   ]
  },
  {
   "cell_type": "markdown",
   "metadata": {},
   "source": [
    "- QOS_PROFILE_CLOCK\n",
    "- QOS_PROFILE_DEFAULT\n",
    "- QOS_PROFILE_PARAMETERS\n",
    "- QOS_PROFILE_PARAMETER_EVENTS\n",
    "- QOS_PROFILE_SENSOR_DATA\n",
    "- QOS_PROFILE_SERVICES_DEFAULT\n",
    "- QOS_PROFILE_SYSTEM_DEFAULT\n"
   ]
  },
  {
   "cell_type": "markdown",
   "metadata": {},
   "source": [
    "\n",
    "Dado que el tema del QoS (Quality of Service) es complejo y está fuera del alcance de la sesión de aprendizaje actual, utilizaremos el perfil de QoS predeterminado, QOS_PROFILE_DEFAULT. Si deseas aprender más sobre QoS y cómo personalizarlo para tus necesidades específicas, te recomiendo que consultes la página oficial de ROS2 [QoS](https://docs.ros.org/en/rolling/Concepts/Intermediate/About-Quality-of-Service-Settings.html)."
   ]
  },
  {
   "cell_type": "markdown",
   "metadata": {},
   "source": [
    "<div>\n",
    "    <h4 class=\"text-center\">\n",
    "        <span class=\"text-primary\">4.2.3.6</span>\n",
    "        &nbsp;\n",
    "        <span class=\"\">ROS spin - usar fuera de un bucle.</span>\n",
    "    </h4>\n",
    "</div>"
   ]
  },
  {
   "cell_type": "markdown",
   "metadata": {},
   "source": [
    "pub fn spin(node: Arc<Node>) -> Result<(), RclrsError>"
   ]
  },
  {
   "cell_type": "code",
   "execution_count": null,
   "metadata": {},
   "outputs": [],
   "source": [
    "rclrs::spin(node).map_err(|err| err.into())"
   ]
  },
  {
   "cell_type": "markdown",
   "metadata": {},
   "source": []
  },
  {
   "cell_type": "markdown",
   "metadata": {},
   "source": [
    "<div>\n",
    "    <h4 class=\"text-center\">\n",
    "        <span class=\"text-primary\">4.2.3.7</span>\n",
    "        &nbsp;\n",
    "        <span class=\"\">ROS spin_once - usar dentro de un bucle.</span>\n",
    "    </h4>\n",
    "</div>"
   ]
  },
  {
   "cell_type": "code",
   "execution_count": null,
   "metadata": {},
   "outputs": [],
   "source": [
    "pub fn spin_once(\n",
    "    node: Arc<Node>,\n",
    "    timeout: Option<Duration>\n",
    ") -> Result<(), RclrsError>"
   ]
  },
  {
   "cell_type": "code",
   "execution_count": null,
   "metadata": {},
   "outputs": [],
   "source": [
    "rclrs::spin_once(node.clone(), Some(std::time::Duration::from_millis(500)));"
   ]
  },
  {
   "cell_type": "markdown",
   "metadata": {},
   "source": [
    "<div>\n",
    "    <h3 class=\"text-center\">\n",
    "        <span class=\"text-primary\">4.2.4</span>\n",
    "        &nbsp;\n",
    "        <span class=\"\">Creación y uso de estructuras y métodos</span>\n",
    "    </h3>\n",
    "</div>"
   ]
  },
  {
   "cell_type": "code",
   "execution_count": null,
   "metadata": {},
   "outputs": [],
   "source": [
    "struct Rectangle {\n",
    "    width: u32,\n",
    "    height: u32,\n",
    "}\n",
    "\n",
    "impl Rectangle {\n",
    "    fn area(&self) -> u32 {\n",
    "        self.width * self.height\n",
    "    }\n",
    "}"
   ]
  },
  {
   "cell_type": "markdown",
   "metadata": {},
   "source": [
    "<a name=\"howtocreateasubscribertoscantopicinrust\"></a>\n",
    "<div>\n",
    "    <h2 class=\"text-center\">\n",
    "        <span class=\"text-primary\">4.3</span>\n",
    "        &nbsp;\n",
    "        <span class=\"\">Cómo crear un suscriptor</span>\n",
    "    </h2>\n",
    "</div>"
   ]
  },
  {
   "cell_type": "markdown",
   "metadata": {},
   "source": [
    "<a name=\"howtocreateasubscribertoscantopicinrust\"></a>\n",
    "<div>\n",
    "    <h3 class=\"text-center\">\n",
    "        <span class=\"text-primary\">4.3.1</span>\n",
    "        &nbsp;\n",
    "        <span class=\"\">Estudio del mensaje que contiene el tópico</span>\n",
    "    </h3>\n",
    "</div>"
   ]
  },
  {
   "cell_type": "markdown",
   "metadata": {},
   "source": [
    "Vamos a ver cómo realizar un subscriptor al _tópico_ `/scan` utilizando Rust. "
   ]
  },
  {
   "cell_type": "markdown",
   "metadata": {},
   "source": [
    "1. En primer vamos a subscribirnos al tópico para ver lo que contiene. "
   ]
  },
  {
   "cell_type": "markdown",
   "metadata": {},
   "source": [
    "<span class=\"badge badge-pill badge-primary\">\n",
    "    <i class=\"fa fa-play\"></i>\n",
    "    &nbsp;\n",
    "    Ejecuta en la Terminal #2\n",
    "</span>"
   ]
  },
  {
   "cell_type": "code",
   "execution_count": null,
   "metadata": {},
   "outputs": [],
   "source": [
    "source /opt/ros/humble/setup.sh\n",
    "ros2 topic echo /scan"
   ]
  },
  {
   "cell_type": "markdown",
   "metadata": {},
   "source": [
    "<pre style=\"color: white; background: black; padding:10px; font: 1.3rem Inconsolata, monospace;\">\n",
    "header:\n",
    "  stamp:\n",
    "    sec: 2986\n",
    "    nanosec: 132000000\n",
    "  frame_id: base_link\n",
    "angle_min: 2.268929958343506\n",
    "angle_max: -2.268929958343506\n",
    "angle_increment: -0.00436752662062645\n",
    "time_increment: 0.0\n",
    "scan_time: 0.0\n",
    "range_min: 0.20000000298023224\n",
    "range_max: 30.0\n",
    "ranges:\n",
    "- 3.2327487468719482\n",
    "- 3.2234182357788086\n",
    "- 3.2095136642456055\n",
    "...\n",
    "</pre>"
   ]
  },
  {
   "cell_type": "markdown",
   "metadata": {},
   "source": [
    "2. Para poder crear un subscriptor utilizando Rust, tenemos que saber qué tipo de mensaje y atributos contiene el tópico `/scan`. "
   ]
  },
  {
   "cell_type": "markdown",
   "metadata": {},
   "source": [
    "<span class=\"badge badge-pill badge-primary\">\n",
    "    <i class=\"fa fa-play\"></i>\n",
    "    &nbsp;\n",
    "    Ejecuta en la Terminal #2\n",
    "</span>"
   ]
  },
  {
   "cell_type": "code",
   "execution_count": null,
   "metadata": {},
   "outputs": [],
   "source": [
    "ros2 topic info /scan"
   ]
  },
  {
   "cell_type": "markdown",
   "metadata": {},
   "source": [
    "<pre style=\"color: white; background: black; padding:10px; font: 1.3rem Inconsolata, monospace;\">\n",
    "Type: sensor_msgs/msg/LaserScan\n",
    "Publisher count: 1\n",
    "Subscription count: 1\n",
    "</pre>"
   ]
  },
  {
   "cell_type": "markdown",
   "metadata": {},
   "source": [
    "<span class=\"badge badge-pill badge-primary\">\n",
    "    <i class=\"fa fa-play\"></i>\n",
    "    &nbsp;\n",
    "    Ejecuta en la Terminal #2\n",
    "</span>"
   ]
  },
  {
   "cell_type": "code",
   "execution_count": null,
   "metadata": {},
   "outputs": [],
   "source": [
    "\n",
    "ros2 interface show sensor_msgs/msg/LaserScan"
   ]
  },
  {
   "cell_type": "markdown",
   "metadata": {},
   "source": [
    "<pre style=\"color: white; background: black; padding:10px; font: 1.3rem Inconsolata, monospace;\">\n",
    "# Single scan from a planar laser range-finder\n",
    "#\n",
    "# If you have another ranging device with different behavior (e.g. a sonar\n",
    "# array), please find or create a different message, since applications\n",
    "# will make fairly laser-specific assumptions about this data\n",
    "\n",
    "std_msgs/Header header # timestamp in the header is the acquisition time of\n",
    "        builtin_interfaces/Time stamp\n",
    "                int32 sec\n",
    "                uint32 nanosec\n",
    "        string frame_id\n",
    "                             # the first ray in the scan.\n",
    "                             #\n",
    "                             # in frame frame_id, angles are measured around\n",
    "                             # the positive Z axis (counterclockwise, if Z is up)\n",
    "                             # with zero angle being forward along the x axis\n",
    "\n",
    "float32 angle_min            # start angle of the scan [rad]\n",
    "float32 angle_max            # end angle of the scan [rad]\n",
    "float32 angle_increment      # angular distance between measurements [rad]\n",
    "\n",
    "float32 time_increment       # time between measurements [seconds] - if your scanner\n",
    "                             # is moving, this will be used in interpolating position\n",
    "                             # of 3d points\n",
    "float32 scan_time            # time between scans [seconds]\n",
    "\n",
    "float32 range_min            # minimum range value [m]\n",
    "float32 range_max            # maximum range value [m]\n",
    "\n",
    "float32[] ranges             # range data [m]\n",
    "                             # (Note: values < range_min or > range_max should be discarded)\n",
    "float32[] intensities        # intensity data [device-specific units].  If your\n",
    "                             # device does not provide intensities, please leave\n",
    "                             # the array empty.\n",
    "</pre>"
   ]
  },
  {
   "cell_type": "markdown",
   "metadata": {},
   "source": [
    "<div>\n",
    "    <h3 class=\"text-center\">\n",
    "        <span class=\"text-primary\">4.3.2</span>\n",
    "        &nbsp;\n",
    "        <span class=\"\">Implementación del código</span>\n",
    "    </h3>\n",
    "</div>"
   ]
  },
  {
   "cell_type": "markdown",
   "metadata": {},
   "source": [
    "Cambia el nombre del fichero  **main.rs -> scan_subscriber.rs**."
   ]
  },
  {
   "cell_type": "markdown",
   "metadata": {},
   "source": [
    "<span class=\"badge badge-pill badge-primary\">\n",
    "    <i class=\"fa fa-play\"></i>\n",
    "    &nbsp;\n",
    "    Ejecuta en la Terminal #2\n",
    "</span>"
   ]
  },
  {
   "cell_type": "code",
   "execution_count": null,
   "metadata": {},
   "outputs": [],
   "source": [
    "cd ~/ros2_rust_workshop/ros_ws/src/rust_apps/src"
   ]
  },
  {
   "cell_type": "code",
   "execution_count": null,
   "metadata": {},
   "outputs": [],
   "source": [
    "mv main.rs scan_subscriber.rs"
   ]
  },
  {
   "cell_type": "markdown",
   "metadata": {},
   "source": [
    "<span class=\"badge badge-pill badge-primary\">\n",
    "    <i class=\"fa fa-play\"></i>\n",
    "    &nbsp;\n",
    "    Abrir en el editor de código: rust_apps/src/scan_subscriber.rs\n",
    "</span>"
   ]
  },
  {
   "cell_type": "code",
   "execution_count": null,
   "metadata": {},
   "outputs": [],
   "source": [
    "use std::env;\n",
    "use anyhow::{Error, Result};\n",
    "\n",
    "fn main() -> Result<(), Error> {\n",
    "    let context = rclrs::Context::new(env::args())?;\n",
    "\n",
    "    let node = rclrs::create_node(&context, \"scan_subscriber\")?;\n",
    "\n",
    "    let mut num_messages: usize = 0;\n",
    "\n",
    "    let _subscription = node.create_subscription::<sensor_msgs::msg::LaserScan, _>(\n",
    "        \"scan\",\n",
    "        rclrs::QOS_PROFILE_DEFAULT,\n",
    "        move |msg: sensor_msgs::msg::LaserScan| {\n",
    "            num_messages += 1;\n",
    "            println!(\"Back range[m]: '{:.2}'\", msg.ranges[0]);\n",
    "            println!(\"Ranges size: '{}'\", msg.ranges.len());\n",
    "            println!(\"Angle min: '{}'\", msg.angle_min);\n",
    "            println!(\"Angle max: '{}'\", msg.angle_max);\n",
    "            println!(\"(Got {} messages so far)\", num_messages);\n",
    "        },\n",
    "    )?;\n",
    "\n",
    "    rclrs::spin(node).map_err(|err| err.into())\n",
    "}"
   ]
  },
  {
   "cell_type": "markdown",
   "metadata": {},
   "source": [
    "Añadir las dependencias de ROS2 manualmente: Añadir **sensor_msgs** en el archivo **package.xml**."
   ]
  },
  {
   "cell_type": "markdown",
   "metadata": {},
   "source": [
    "<span class=\"badge badge-pill badge-primary\">\n",
    "    <i class=\"fa fa-play\"></i>\n",
    "    &nbsp;\n",
    "    Abrir en el editor de código: rust_apps/package.xml\n",
    "</span>"
   ]
  },
  {
   "cell_type": "code",
   "execution_count": null,
   "metadata": {},
   "outputs": [],
   "source": [
    "  <depend>sensor_msgs</depend>  "
   ]
  },
  {
   "cell_type": "markdown",
   "metadata": {},
   "source": [
    "Añadir dependencias con otros _crates_ y enlazar el archivo con el nodo de ROS2 en  /ros2_rust_ws/src/rust_apps/cargo.toml."
   ]
  },
  {
   "cell_type": "markdown",
   "metadata": {},
   "source": [
    "<span class=\"badge badge-pill badge-primary\">\n",
    "    <i class=\"fa fa-play\"></i>\n",
    "    &nbsp;\n",
    "    Abrir en el editor de código: rust_apps/cargo.toml\n",
    "</span>"
   ]
  },
  {
   "cell_type": "code",
   "execution_count": null,
   "metadata": {},
   "outputs": [],
   "source": [
    "[dependencies.sensor_msgs]\n",
    "sensor_msgs = \"*\""
   ]
  },
  {
   "cell_type": "code",
   "execution_count": null,
   "metadata": {},
   "outputs": [],
   "source": [
    "[[bin]]\n",
    "name = \"scan_subscriber_node\"\n",
    "path = \"src/scan_subscriber.rs\""
   ]
  },
  {
   "cell_type": "markdown",
   "metadata": {},
   "source": [
    "Añadir las dependencias de forma automática:"
   ]
  },
  {
   "cell_type": "markdown",
   "metadata": {},
   "source": [
    "<span class=\"badge badge-pill badge-primary\">\n",
    "    <i class=\"fa fa-play\"></i>\n",
    "    &nbsp;\n",
    "    Ejecutar en la Terminal #2\n",
    "</span>"
   ]
  },
  {
   "cell_type": "code",
   "execution_count": null,
   "metadata": {},
   "outputs": [],
   "source": [
    "cd ~/ros2_rust_workshop/ros_ws/src/rust_apps\n",
    "cargo add anyhow\n",
    "cargo add rclrs"
   ]
  },
  {
   "cell_type": "markdown",
   "metadata": {},
   "source": [
    "Construir el nodo:"
   ]
  },
  {
   "cell_type": "markdown",
   "metadata": {},
   "source": [
    "<span class=\"badge badge-pill badge-primary\">\n",
    "    <i class=\"fa fa-play\"></i>\n",
    "    &nbsp;\n",
    "    Ejecuta en la Terminal #2\n",
    "</span>"
   ]
  },
  {
   "cell_type": "code",
   "execution_count": null,
   "metadata": {},
   "outputs": [],
   "source": [
    "cd ~/ros2_rust_workshop/ros_ws"
   ]
  },
  {
   "cell_type": "code",
   "execution_count": null,
   "metadata": {},
   "outputs": [],
   "source": [
    "colcon build --packages-select rust_apps"
   ]
  },
  {
   "cell_type": "markdown",
   "metadata": {},
   "source": [
    "<div>\n",
    "    <h3 class=\"text-center\">\n",
    "        <span class=\"text-primary\">4.3.3</span>\n",
    "        &nbsp;\n",
    "        <span class=\"\">Ejecución del código</span>\n",
    "    </h3>\n",
    "</div>"
   ]
  },
  {
   "cell_type": "markdown",
   "metadata": {},
   "source": [
    "<span class=\"badge badge-pill badge-primary\">\n",
    "    <i class=\"fa fa-play\"></i>\n",
    "    &nbsp;\n",
    "        Ejecuta en la Terminal #2\n",
    "</span>"
   ]
  },
  {
   "cell_type": "code",
   "execution_count": null,
   "metadata": {},
   "outputs": [],
   "source": [
    "cd ~/ros2_rust_workshop/ros_ws"
   ]
  },
  {
   "cell_type": "code",
   "execution_count": null,
   "metadata": {},
   "outputs": [],
   "source": [
    "source install/setup.sh"
   ]
  },
  {
   "cell_type": "code",
   "execution_count": null,
   "metadata": {},
   "outputs": [],
   "source": [
    "ros2 run rust_apps scan_subscriber_node"
   ]
  },
  {
   "cell_type": "markdown",
   "metadata": {},
   "source": [
    "<span class=\"badge badge-pill badge-primary\">\n",
    "    <i class=\"fa fa-play\"></i>\n",
    "    &nbsp;\n",
    "   Salida de la Terminal #3:\n",
    "</span>"
   ]
  },
  {
   "cell_type": "markdown",
   "metadata": {},
   "source": [
    "<pre style=\"color: white; background: black; padding:10px; font: 1.3rem Inconsolata, monospace;\">\n",
    "...\n",
    "Back range[m]: '7.1516247'\n",
    "Ranges size: '1040'\n",
    "Angle min: '2.26893'\n",
    "Angle max: '-2.26893'\n",
    "(Got 70 messages so far)\n",
    "...\n",
    "</pre>"
   ]
  },
  {
   "cell_type": "markdown",
   "metadata": {},
   "source": [
    "<a name=\"howtocreateapublishertocmdvelinrust\"></a>\n",
    "<div>\n",
    "    <h2 class=\"text-center\">\n",
    "        <span class=\"text-primary\">4.4</span>\n",
    "        &nbsp;\n",
    "        <span class=\"\">Cómo crear un cmd_vel Publisher en Rust</span>\n",
    "    </h2>\n",
    "</div>"
   ]
  },
  {
   "cell_type": "markdown",
   "metadata": {},
   "source": [
    "<div>\n",
    "    <h3 class=\"text-center\">\n",
    "        <span class=\"text-primary\">4.4.1</span>\n",
    "        &nbsp;\n",
    "        <span class=\"\">Implementación del código</span>\n",
    "    </h3>\n",
    "</div>"
   ]
  },
  {
   "cell_type": "markdown",
   "metadata": {},
   "source": [
    "Crea un nuevo fichero dentro del paquete de Rust *rust_apps* con el nombre *cmd_vel_publisher.rs* y pega el siguiente código:"
   ]
  },
  {
   "cell_type": "markdown",
   "metadata": {},
   "source": [
    "<span class=\"badge badge-pill badge-primary\">\n",
    "    <i class=\"fa fa-play\"></i>\n",
    "    &nbsp;\n",
    "    Editor de código: rust_apps/src/cmd_vel_publisher.rs\n",
    "</span>"
   ]
  },
  {
   "cell_type": "code",
   "execution_count": null,
   "metadata": {},
   "outputs": [],
   "source": [
    "use std::env;\n",
    "use anyhow::{Error, Result};\n",
    "use geometry_msgs::msg::Twist as Twist;\n",
    "\n",
    "fn main() -> Result<(), Error> {\n",
    "    let context = rclrs::Context::new(env::args())?;\n",
    "\n",
    "    let node = rclrs::create_node(&context, \"cmd_vel_publisher\")?; \n",
    "\n",
    "    let publisher = node.create_publisher::<Twist>(\"cmd_vel\", rclrs::QOS_PROFILE_DEFAULT)?;\n",
    "\n",
    "    let mut cmd_vel_message = Twist::default();\n",
    "\n",
    "    let mut velocity = 1.0;\n",
    "    let velocity_threshold = 1.0;\n",
    "    let velocity_decrease = 0.05;\n",
    "\n",
    "    while context.ok() {\n",
    "        cmd_vel_message.linear.x = velocity;\n",
    "        cmd_vel_message.linear.y = velocity;\n",
    "        cmd_vel_message.angular.z = 0.0;\n",
    "        if velocity < velocity_threshold*(-1.0) {velocity = velocity_threshold}\n",
    "        else {velocity-=velocity_decrease};\n",
    "        println!(\"Moving velocity lineal x: {:.2} and angular z: {:.2} m/s.\",cmd_vel_message.linear.x , cmd_vel_message.angular.z);\n",
    "        publisher.publish(&cmd_vel_message)?;\n",
    "        std::thread::sleep(std::time::Duration::from_millis(500));\n",
    "    }\n",
    "    Ok(())\n",
    "}"
   ]
  },
  {
   "cell_type": "markdown",
   "metadata": {},
   "source": [
    "Añade la dependencia *geometry_msgs* y añade el nuevo nodo llamado *cmd_vel_publisher* dentro de *Cargo.toml*"
   ]
  },
  {
   "cell_type": "markdown",
   "metadata": {},
   "source": [
    "<span class=\"badge badge-pill badge-primary\">\n",
    "    <i class=\"fa fa-play\"></i>\n",
    "    &nbsp;\n",
    "    Editor de código: rust_apps/Cargo.toml\n",
    "</span>"
   ]
  },
  {
   "cell_type": "code",
   "execution_count": null,
   "metadata": {},
   "outputs": [],
   "source": [
    "[dependencies.geometry_msgs]\n",
    "geometry_msgs = \"*\""
   ]
  },
  {
   "cell_type": "code",
   "execution_count": null,
   "metadata": {},
   "outputs": [],
   "source": [
    "[[bin]]\n",
    "name = \"cmd_vel_publisher_node\"\n",
    "path = \"src/cmd_vel_publisher.rs\""
   ]
  },
  {
   "cell_type": "markdown",
   "metadata": {},
   "source": [
    "<span class=\"badge badge-pill badge-primary\">\n",
    "    <i class=\"fa fa-play\"></i>\n",
    "    &nbsp;\n",
    "    Editor de código: rust_apps/package.xml\n",
    "</span>"
   ]
  },
  {
   "cell_type": "code",
   "execution_count": null,
   "metadata": {},
   "outputs": [],
   "source": [
    "<depend>geometry_msgs</depend>  "
   ]
  },
  {
   "cell_type": "markdown",
   "metadata": {},
   "source": [
    "Construya el paquete de ROS2"
   ]
  },
  {
   "cell_type": "markdown",
   "metadata": {},
   "source": [
    "<span class=\"badge badge-pill badge-primary\">\n",
    "    <i class=\"fa fa-play\"></i>\n",
    "    &nbsp;\n",
    "    Ejecuta en la Terminal #2\n",
    "</span>"
   ]
  },
  {
   "cell_type": "code",
   "execution_count": null,
   "metadata": {},
   "outputs": [],
   "source": [
    "cd ~/ros2_rust_workshop/ros_ws"
   ]
  },
  {
   "cell_type": "code",
   "execution_count": null,
   "metadata": {},
   "outputs": [],
   "source": [
    "colcon build --packages-select rust_apps"
   ]
  },
  {
   "cell_type": "markdown",
   "metadata": {},
   "source": [
    "<div>\n",
    "    <h3 class=\"text-center\">\n",
    "        <span class=\"text-primary\">4.4.2</span>\n",
    "        &nbsp;\n",
    "        <span class=\"\">Ejecución del código</span>\n",
    "    </h3>\n",
    "</div>"
   ]
  },
  {
   "cell_type": "markdown",
   "metadata": {},
   "source": [
    "<span class=\"badge badge-pill badge-primary\">\n",
    "    <i class=\"fa fa-play\"></i>\n",
    "    &nbsp;\n",
    "    Ejecuta en la terminal #2\n",
    "</span>"
   ]
  },
  {
   "cell_type": "code",
   "execution_count": null,
   "metadata": {},
   "outputs": [],
   "source": [
    "cd ~/ros2_rust_workshop/ros_ws"
   ]
  },
  {
   "cell_type": "code",
   "execution_count": null,
   "metadata": {},
   "outputs": [],
   "source": [
    "source install/setup.sh"
   ]
  },
  {
   "cell_type": "markdown",
   "metadata": {},
   "source": [
    "Abre la ventana de *gazebo* y busca al robot champ y después executa el nodo *cmd_vel_publisher*."
   ]
  },
  {
   "cell_type": "markdown",
   "metadata": {},
   "source": [
    "<span class=\"badge badge-pill badge-primary\">\n",
    "    <i class=\"fa fa-play\"></i>\n",
    "    &nbsp;\n",
    "    Ejecuta en la Terminal #2\n",
    "</span>"
   ]
  },
  {
   "cell_type": "code",
   "execution_count": null,
   "metadata": {},
   "outputs": [],
   "source": [
    "source /opt/ros/humble/setup.sh "
   ]
  },
  {
   "cell_type": "code",
   "execution_count": null,
   "metadata": {},
   "outputs": [],
   "source": [
    "ros2 run rust_apps cmd_vel_publisher_node"
   ]
  },
  {
   "cell_type": "markdown",
   "metadata": {},
   "source": [
    "![cmd_vel_2](https://github.com/user-attachments/assets/fc169604-80ce-40fe-8963-75a9fdb04e96)\n"
   ]
  },
  {
   "cell_type": "markdown",
   "metadata": {},
   "source": [
    "Si se quiere parar el robot, puedes terminal el programa con `Ctrl+C` y ejecutar después la siguiente línea de código:"
   ]
  },
  {
   "cell_type": "code",
   "execution_count": null,
   "metadata": {},
   "outputs": [],
   "source": [
    "ros2 topic pub --once /cmd_vel geometry_msgs/msg/Twist '{linear: {x: 0.0, y: 0.0, z: 0.0}, angular: {x: 0.0, y: 0.0, z: 0.0}}'"
   ]
  },
  {
   "cell_type": "markdown",
   "metadata": {},
   "source": [
    "<a name=\"howtocreatasubandpub\"></a>\n",
    "<div>\n",
    "    <h2 class=\"text-center\">\n",
    "        <span class=\"text-primary\">4.5</span>\n",
    "        &nbsp;\n",
    "        <span class=\"\">Cómo crear un Subscriber y un Publisher en el mismo nodo</span>\n",
    "    </h2>\n",
    "</div>"
   ]
  },
  {
   "cell_type": "markdown",
   "metadata": {},
   "source": [
    "<div>\n",
    "    <h3 class=\"text-center\">\n",
    "        <span class=\"text-primary\">4.5.1</span>\n",
    "        &nbsp;\n",
    "        <span class=\"\">Implementación del código</span>\n",
    "    </h3>\n",
    "</div>"
   ]
  },
  {
   "cell_type": "markdown",
   "metadata": {},
   "source": [
    "Los proyectos reales van más allá de los modelos de publicación y suscripción simples. Colaboremos para crear una estructura de Rust que incluya tanto un publicador como un suscriptor. Esta estructura permitirá que el robot navegue de forma autónoma por el entorno de simulación, evitando colisiones de forma independiente."
   ]
  },
  {
   "cell_type": "markdown",
   "metadata": {},
   "source": [
    "<span class=\"badge badge-pill badge-primary\">\n",
    "    <i class=\"fa fa-play\"></i>\n",
    "    &nbsp;\n",
    "    Editor de código: rust_apps/src/obstacle_avoidance.rs\n",
    "</span>"
   ]
  },
  {
   "cell_type": "code",
   "execution_count": null,
   "metadata": {},
   "outputs": [],
   "source": [
    "use std::{\n",
    "    env,\n",
    "    sync::{\n",
    "        Arc, Mutex,\n",
    "    },\n",
    "};\n",
    "use sensor_msgs::msg::LaserScan as LaserScan;\n",
    "use geometry_msgs::msg::Twist as Twist;\n",
    "use anyhow::{Error, Result};\n",
    "\n",
    "struct ObstacleAvoidance {\n",
    "    _subscription:Arc<rclrs::Subscription<LaserScan>>,\n",
    "    publication: Arc<rclrs::Publisher<Twist>>,\n",
    "    twist_msg:  Arc<Mutex<Twist>>\n",
    "}\n",
    "\n",
    "impl ObstacleAvoidance {\n",
    "    pub fn new(node: &rclrs::Node) -> Result<Self, rclrs::RclrsError> {\n",
    "        let twist_msg = Arc::new(Mutex::new(Twist::default()));\n",
    "        let publication = node.create_publisher::<Twist>(\"cmd_vel\", rclrs::QOS_PROFILE_DEFAULT)?;\n",
    "        let twist_msg_clone = Arc::clone(&twist_msg);\n",
    "        let _subscription = node.create_subscription::<LaserScan, _>(\n",
    "            \"scan\",\n",
    "            rclrs::QOS_PROFILE_DEFAULT,\n",
    "            move |msg: LaserScan| {\n",
    "                let mut twist_msg = twist_msg_clone.lock().unwrap();\n",
    "\n",
    "                let resolution =  msg.ranges.len()/ 360;\n",
    "                let lateral_scan_angle = 30;\n",
    "                let current_distance_left = msg.ranges[resolution*lateral_scan_angle];\n",
    "                let current_distance_front = msg.ranges[msg.ranges.len()/2];\n",
    "                let current_distance_back = msg.ranges[0];\n",
    "                let current_distance_right = msg.ranges[msg.ranges.len() - resolution*lateral_scan_angle];\n",
    "\n",
    "                println!(\"distance [m]: front '{:.2}', right '{:.2}', back '{:.2}', left '{:.2}'\", \n",
    "                current_distance_front, current_distance_right, current_distance_back, current_distance_left);\n",
    "\n",
    "                twist_msg.linear.x = 0.5;\n",
    "                twist_msg.linear.y = 0.0;\n",
    "                twist_msg.angular.z = -0.15;\n",
    "                if current_distance_front < 3.0 \n",
    "                {\n",
    "                    twist_msg.linear.x = -0.5;\n",
    "                }\n",
    "                if current_distance_right < 3.0\n",
    "                {\n",
    "                    twist_msg.linear.y = -0.5;\n",
    "                }\n",
    "                if current_distance_back < 3.0\n",
    "                {\n",
    "                    twist_msg.linear.x = 0.5;\n",
    "                }\n",
    "                if current_distance_left < 3.0\n",
    "                {\n",
    "                    twist_msg.linear.x = 0.5;\n",
    "\n",
    "                } \n",
    "                \n",
    "            },\n",
    "            )?;\n",
    "\n",
    "\n",
    "        Ok(Self{\n",
    "            _subscription,\n",
    "            publication,\n",
    "            twist_msg,\n",
    "        })\n",
    "    }\n",
    "\n",
    "    pub fn publish(&self) \n",
    "    {\n",
    "      let twist_msg = self.twist_msg.lock().unwrap();\n",
    "      let _ = self.publication.publish(&*twist_msg);\n",
    "    }\n",
    "}\n",
    "\n",
    "fn main() -> Result<(), Error> {\n",
    "    let context = rclrs::Context::new(env::args())?;\n",
    "    let node = rclrs::create_node(&context, \"minimal_subscriber_one\")?;\n",
    "    let subscriber_node_one = ObstacleAvoidance::new(&node)?;\n",
    "    while context.ok() {\n",
    "        subscriber_node_one.publish();\n",
    "        let _ = rclrs::spin_once(node.clone(), Some(std::time::Duration::from_millis(500)));\n",
    "        std::thread::sleep(std::time::Duration::from_millis(500));\n",
    "    }\n",
    "    Ok(())\n",
    "\n",
    "}"
   ]
  },
  {
   "cell_type": "markdown",
   "metadata": {},
   "source": [
    "Añadir el nuevo nodo ejecutable en Cargo.toml"
   ]
  },
  {
   "cell_type": "markdown",
   "metadata": {},
   "source": [
    "<span class=\"badge badge-pill badge-primary\">\n",
    "    <i class=\"fa fa-play\"></i>\n",
    "    &nbsp;\n",
    "    Editor de código: rust_apps/Cargo.toml\n",
    "</span>"
   ]
  },
  {
   "cell_type": "code",
   "execution_count": null,
   "metadata": {},
   "outputs": [],
   "source": [
    "[[bin]]\n",
    "name = \"obstacle_avoidance_node\"\n",
    "path = \"src/obstacle_avoidance.rs\""
   ]
  },
  {
   "cell_type": "markdown",
   "metadata": {},
   "source": [
    "<span class=\"badge badge-pill badge-primary\">\n",
    "    <i class=\"fa fa-play\"></i>\n",
    "    &nbsp;\n",
    "    Ejecuta en la Terminal #2\n",
    "</span>"
   ]
  },
  {
   "cell_type": "code",
   "execution_count": null,
   "metadata": {},
   "outputs": [],
   "source": [
    "cd ~/ros2_rust_workshop/ros_ws"
   ]
  },
  {
   "cell_type": "code",
   "execution_count": null,
   "metadata": {},
   "outputs": [],
   "source": [
    "colcon build --packages-select rust_apps"
   ]
  },
  {
   "cell_type": "markdown",
   "metadata": {},
   "source": [
    "<div>\n",
    "    <h3 class=\"text-center\">\n",
    "        <span class=\"text-primary\">4.5.2</span>\n",
    "        &nbsp;\n",
    "        <span class=\"\">Ejecución del código</span>\n",
    "    </h3>\n",
    "</div>"
   ]
  },
  {
   "cell_type": "markdown",
   "metadata": {},
   "source": [
    "<span class=\"badge badge-pill badge-primary\">\n",
    "    <i class=\"fa fa-play\"></i>\n",
    "    &nbsp;\n",
    "    Ejecuta en la Terminal #2\n",
    "</span>"
   ]
  },
  {
   "cell_type": "code",
   "execution_count": null,
   "metadata": {},
   "outputs": [],
   "source": [
    "source install/setup.sh\n",
    "ros2 run rust_apps obstacle_avoidance_node"
   ]
  },
  {
   "cell_type": "markdown",
   "metadata": {},
   "source": [
    "![obstacle_avoidance](https://github.com/user-attachments/assets/cabbf9c2-1321-44a2-b0a6-17fb4cb02624)\n"
   ]
  },
  {
   "cell_type": "markdown",
   "metadata": {},
   "source": [
    "Si se quiere parar el robot, puedes terminal el programa con `Ctrl+C` y ejecutar después la siguiente línea de código:"
   ]
  },
  {
   "cell_type": "markdown",
   "metadata": {},
   "source": [
    "<span class=\"badge badge-pill badge-primary\">\n",
    "    <i class=\"fa fa-play\"></i>\n",
    "    &nbsp;\n",
    "    Ejecuta en la Terminal #2\n",
    "</span>"
   ]
  },
  {
   "cell_type": "code",
   "execution_count": null,
   "metadata": {},
   "outputs": [],
   "source": [
    "ros2 topic pub --once /cmd_vel geometry_msgs/msg/Twist '{linear: {x: 0.0, y: 0.0, z: 0.0}, angular: {x: 0.0, y: 0.0, z: 0.0}}'"
   ]
  },
  {
   "cell_type": "markdown",
   "metadata": {},
   "source": [
    "<a name=\"futurework\"></a>\n",
    "<div>\n",
    "    <h2 class=\"text-center\">\n",
    "        <span class=\"text-primary\">5.</span>\n",
    "        &nbsp;\n",
    "        <span class=\"\">Trabajo futuro</span>\n",
    "    </h2>\n",
    "</div>"
   ]
  },
  {
   "cell_type": "markdown",
   "metadata": {},
   "source": [
    "Ahora estás preparado para crear nodos en Rust. Para mejorar aún más tu competencia, te recomiendo que revises los siguientes cursos y documentación:"
   ]
  },
  {
   "cell_type": "markdown",
   "metadata": {},
   "source": [
    "ROS2 Rust:\n",
    "- [Repositorio de ROS2 Rust](https://github.com/ros2-rust/ros2_rust)\n",
    "- [ROS2 Basics in 3 Days (Rust)](https://app.theconstruct.ai/courses/168)\n",
    "- [ROS2 con Rust | ROS2 Developers Open Class - The Construct](https://youtu.be/ShCnUasOBzU?feature=shared)\n",
    "- [Construye un nodo de ROS2 con Rust - Mike](https://www.youtube.com/watch?v=U5wHiZpNdvg)\n",
    "- [Estado actual de las librerias de ROS2 Rust - ROS discourse](https://discourse.ros.org/t/current-state-of-rust-client-libraries-which-one-to-use-ros2-client-rus2-ros2-rust-rclrust-rosrust-or-r2r/39119)\n",
    "\n",
    "Aprender Rust:\n",
    "- [Libro de Rust](https://doc.rust-lang.org/book/)\n",
    "- [Los 9 mejores cursos y libros de programación en Rust para principiantes en 2024](https://medium.com/javarevisited/7-best-rust-programming-courses-and-books-for-beginners-in-2021-2ed2311af46c)"
   ]
  },
  {
   "cell_type": "markdown",
   "metadata": {},
   "source": [
    "<a name=\"QandA\"></a>\n",
    "<div>\n",
    "    <h2 class=\"text-center\">\n",
    "        <span class=\"text-primary\">6.</span>\n",
    "        &nbsp;\n",
    "        <span class=\"\">Preguntas y Respuestas</span>\n",
    "    </h2>\n",
    "</div>"
   ]
  },
  {
   "cell_type": "markdown",
   "metadata": {},
   "source": [
    "<p style=\"text-align: center\">\n",
    "<img src=\"./images/thankyou.png\" width=\"900\" />\n",
    "</p>"
   ]
  }
 ],
 "metadata": {
  "kernelspec": {
   "display_name": "Python 2",
   "language": "python",
   "name": "python2"
  },
  "language_info": {
   "codemirror_mode": {
    "name": "ipython",
    "version": 2
   },
   "file_extension": ".py",
   "mimetype": "text/x-python",
   "name": "python",
   "nbconvert_exporter": "python",
   "pygments_lexer": "ipython2",
   "version": "2.7.16"
  }
 },
 "nbformat": 4,
 "nbformat_minor": 2
}
